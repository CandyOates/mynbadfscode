{
 "cells": [
  {
   "cell_type": "code",
   "execution_count": 1,
   "metadata": {
    "collapsed": false
   },
   "outputs": [],
   "source": [
    "import selenium\n",
    "from selenium import webdriver\n",
    "from selenium.webdriver.common.keys import Keys\n",
    "import time\n",
    "import pandas as pd\n",
    "from itertools import izip"
   ]
  },
  {
   "cell_type": "code",
   "execution_count": 2,
   "metadata": {
    "collapsed": false
   },
   "outputs": [],
   "source": [
    "class FanDuelScraper(object):\n",
    "    def __init__(self):\n",
    "        \"\"\"Create a Firefox Browser to Scrape FanDuel Contest Data.\"\"\"\n",
    "        self.ff = webdriver.Firefox(firefox_profile=webdriver.FirefoxProfile('/Users/andingo/Library/Application Support/Firefox/Profiles/eual1qsf.PythonScripts'))\n",
    "    \n",
    "    def gotoURL(self, url):\n",
    "        \"\"\"Goto the contest url.\"\"\"\n",
    "        self.ff.get(url)\n",
    "    \n",
    "    def getPrizes(self):\n",
    "        \"\"\"Get a list of places and corresponding prizes. For prizes earned by a range of ranks,\n",
    "        use the place of the lowest ranking position to win that prize.\"\"\"\n",
    "        elem = self.ff.find_element_by_class_name(\"toggle-show-prize-scoring\")\n",
    "        elem.click()\n",
    "        places = []\n",
    "        prizes = []\n",
    "        for elem in self.ff.find_elements_by_tag_name('dl'):\n",
    "            try:\n",
    "                spl = elem.text.split('$')\n",
    "                prize = float(spl[1].replace(',',''))\n",
    "                place = int(spl[0].split(' - ')[-1][:-3])\n",
    "#                 print '%6d\\t%.2f' % (place, prize)\n",
    "                places.append(place)\n",
    "                prizes.append(prize)\n",
    "            except Exception, e:\n",
    "                print e.message\n",
    "        elem = self.ff.find_element_by_class_name('live-prize-scoring-close')\n",
    "        elem = elem.find_element_by_class_name('button')\n",
    "        elem.click()\n",
    "        return places, prizes\n",
    "    \n",
    "    def getLevels(self, places, prizes):\n",
    "        page_num = 0\n",
    "        d = dict(Prize=[], Score=[])\n",
    "        for k, rk in enumerate(places):\n",
    "            new_page_num = rk/10+int(rk % 10 != 0)\n",
    "            if new_page_num != page_num:\n",
    "                page_num = new_page_num\n",
    "                elem = self.ff.find_element_by_class_name('paging-input')\n",
    "                elem.send_keys('%s%d' % (10*Keys.BACKSPACE, page_num))\n",
    "                time.sleep(2)\n",
    "                winnings = map(lambda x: float(x.text[1:].replace(',','')), self.ff.find_elements_by_class_name('user-winnings'))\n",
    "                scores = map(lambda x: float(x.text.replace(',','')), self.ff.find_elements_by_class_name('user-score'))\n",
    "            ind = rk - (page_num - int(rk % 10 != 0))*10 + 10*int(rk % 10 == 0) - 1\n",
    "            if prizes[k] != winnings[ind]:\n",
    "                d['Prize'].append(prizes[k])\n",
    "                d['Score'].append(scores[ind]+.01)\n",
    "            d['Prize'].append(winnings[ind])\n",
    "            d['Score'].append(scores[ind])\n",
    "        #     print rk, prizes[k], winnings[ind], scores[ind]\n",
    "        assert not any([d['Prize'][i] <= d['Prize'][i+1] for i in range(len(d['Prize'])-1)])\n",
    "        return pd.DataFrame(d)\n",
    "    \n",
    "    def getGames(self):\n",
    "        elems = self.ff.find_elements_by_class_name('live-fixture__team-code')\n",
    "        return ['%s@%s' % (a.text,h.text) for a, h in izip(elems[::2], elems[1::2])]\n",
    "    \n",
    "    def exit(self):\n",
    "        self.ff.quit()\n",
    "        self.ff.close()"
   ]
  },
  {
   "cell_type": "code",
   "execution_count": 3,
   "metadata": {
    "collapsed": false,
    "scrolled": true
   },
   "outputs": [
    {
     "ename": "WebDriverException",
     "evalue": "Message: Can't load the profile. Profile Dir: /var/folders/tl/zzwysg6s4l55j3bwqyddw1b00000gn/T/tmpMTsIAp/webdriver-py-profilecopy If you specified a log_file in the FirefoxBinary constructor, check it for details.\n",
     "output_type": "error",
     "traceback": [
      "\u001b[0;31m---------------------------------------------------------------------------\u001b[0m",
      "\u001b[0;31mWebDriverException\u001b[0m                        Traceback (most recent call last)",
      "\u001b[0;32m<ipython-input-3-8963ecc70b2a>\u001b[0m in \u001b[0;36m<module>\u001b[0;34m()\u001b[0m\n\u001b[0;32m----> 1\u001b[0;31m \u001b[0mfds\u001b[0m \u001b[0;34m=\u001b[0m \u001b[0mFanDuelScraper\u001b[0m\u001b[0;34m(\u001b[0m\u001b[0;34m)\u001b[0m\u001b[0;34m\u001b[0m\u001b[0m\n\u001b[0m",
      "\u001b[0;32m<ipython-input-2-09a280f20723>\u001b[0m in \u001b[0;36m__init__\u001b[0;34m(self)\u001b[0m\n\u001b[1;32m      2\u001b[0m     \u001b[0;32mdef\u001b[0m \u001b[0m__init__\u001b[0m\u001b[0;34m(\u001b[0m\u001b[0mself\u001b[0m\u001b[0;34m)\u001b[0m\u001b[0;34m:\u001b[0m\u001b[0;34m\u001b[0m\u001b[0m\n\u001b[1;32m      3\u001b[0m         \u001b[0;34m\"\"\"Create a Firefox Browser to Scrape FanDuel Contest Data.\"\"\"\u001b[0m\u001b[0;34m\u001b[0m\u001b[0m\n\u001b[0;32m----> 4\u001b[0;31m         \u001b[0mself\u001b[0m\u001b[0;34m.\u001b[0m\u001b[0mff\u001b[0m \u001b[0;34m=\u001b[0m \u001b[0mwebdriver\u001b[0m\u001b[0;34m.\u001b[0m\u001b[0mFirefox\u001b[0m\u001b[0;34m(\u001b[0m\u001b[0mfirefox_profile\u001b[0m\u001b[0;34m=\u001b[0m\u001b[0mwebdriver\u001b[0m\u001b[0;34m.\u001b[0m\u001b[0mFirefoxProfile\u001b[0m\u001b[0;34m(\u001b[0m\u001b[0;34m'/Users/andingo/Library/Application Support/Firefox/Profiles/eual1qsf.PythonScripts'\u001b[0m\u001b[0;34m)\u001b[0m\u001b[0;34m)\u001b[0m\u001b[0;34m\u001b[0m\u001b[0m\n\u001b[0m\u001b[1;32m      5\u001b[0m \u001b[0;34m\u001b[0m\u001b[0m\n\u001b[1;32m      6\u001b[0m     \u001b[0;32mdef\u001b[0m \u001b[0mgotoURL\u001b[0m\u001b[0;34m(\u001b[0m\u001b[0mself\u001b[0m\u001b[0;34m,\u001b[0m \u001b[0murl\u001b[0m\u001b[0;34m)\u001b[0m\u001b[0;34m:\u001b[0m\u001b[0;34m\u001b[0m\u001b[0m\n",
      "\u001b[0;32m/Library/Python/2.7/site-packages/selenium/webdriver/firefox/webdriver.pyc\u001b[0m in \u001b[0;36m__init__\u001b[0;34m(self, firefox_profile, firefox_binary, timeout, capabilities, proxy, executable_path)\u001b[0m\n\u001b[1;32m     76\u001b[0m \u001b[0;34m\u001b[0m\u001b[0m\n\u001b[1;32m     77\u001b[0m             executor = ExtensionConnection(\"127.0.0.1\", self.profile,\n\u001b[0;32m---> 78\u001b[0;31m                                            self.binary, timeout)\n\u001b[0m\u001b[1;32m     79\u001b[0m             RemoteWebDriver.__init__(self,\n\u001b[1;32m     80\u001b[0m                 \u001b[0mcommand_executor\u001b[0m\u001b[0;34m=\u001b[0m\u001b[0mexecutor\u001b[0m\u001b[0;34m,\u001b[0m\u001b[0;34m\u001b[0m\u001b[0m\n",
      "\u001b[0;32m/Library/Python/2.7/site-packages/selenium/webdriver/firefox/extension_connection.pyc\u001b[0m in \u001b[0;36m__init__\u001b[0;34m(self, host, firefox_profile, firefox_binary, timeout)\u001b[0m\n\u001b[1;32m     47\u001b[0m         \u001b[0mself\u001b[0m\u001b[0;34m.\u001b[0m\u001b[0mprofile\u001b[0m\u001b[0;34m.\u001b[0m\u001b[0madd_extension\u001b[0m\u001b[0;34m(\u001b[0m\u001b[0;34m)\u001b[0m\u001b[0;34m\u001b[0m\u001b[0m\n\u001b[1;32m     48\u001b[0m \u001b[0;34m\u001b[0m\u001b[0m\n\u001b[0;32m---> 49\u001b[0;31m         \u001b[0mself\u001b[0m\u001b[0;34m.\u001b[0m\u001b[0mbinary\u001b[0m\u001b[0;34m.\u001b[0m\u001b[0mlaunch_browser\u001b[0m\u001b[0;34m(\u001b[0m\u001b[0mself\u001b[0m\u001b[0;34m.\u001b[0m\u001b[0mprofile\u001b[0m\u001b[0;34m)\u001b[0m\u001b[0;34m\u001b[0m\u001b[0m\n\u001b[0m\u001b[1;32m     50\u001b[0m         \u001b[0m_URL\u001b[0m \u001b[0;34m=\u001b[0m \u001b[0;34m\"http://%s:%d/hub\"\u001b[0m \u001b[0;34m%\u001b[0m \u001b[0;34m(\u001b[0m\u001b[0mHOST\u001b[0m\u001b[0;34m,\u001b[0m \u001b[0mPORT\u001b[0m\u001b[0;34m)\u001b[0m\u001b[0;34m\u001b[0m\u001b[0m\n\u001b[1;32m     51\u001b[0m         RemoteConnection.__init__(\n",
      "\u001b[0;32m/Library/Python/2.7/site-packages/selenium/webdriver/firefox/firefox_binary.pyc\u001b[0m in \u001b[0;36mlaunch_browser\u001b[0;34m(self, profile)\u001b[0m\n\u001b[1;32m     66\u001b[0m \u001b[0;34m\u001b[0m\u001b[0m\n\u001b[1;32m     67\u001b[0m         \u001b[0mself\u001b[0m\u001b[0;34m.\u001b[0m\u001b[0m_start_from_profile_path\u001b[0m\u001b[0;34m(\u001b[0m\u001b[0mself\u001b[0m\u001b[0;34m.\u001b[0m\u001b[0mprofile\u001b[0m\u001b[0;34m.\u001b[0m\u001b[0mpath\u001b[0m\u001b[0;34m)\u001b[0m\u001b[0;34m\u001b[0m\u001b[0m\n\u001b[0;32m---> 68\u001b[0;31m         \u001b[0mself\u001b[0m\u001b[0;34m.\u001b[0m\u001b[0m_wait_until_connectable\u001b[0m\u001b[0;34m(\u001b[0m\u001b[0;34m)\u001b[0m\u001b[0;34m\u001b[0m\u001b[0m\n\u001b[0m\u001b[1;32m     69\u001b[0m \u001b[0;34m\u001b[0m\u001b[0m\n\u001b[1;32m     70\u001b[0m     \u001b[0;32mdef\u001b[0m \u001b[0mkill\u001b[0m\u001b[0;34m(\u001b[0m\u001b[0mself\u001b[0m\u001b[0;34m)\u001b[0m\u001b[0;34m:\u001b[0m\u001b[0;34m\u001b[0m\u001b[0m\n",
      "\u001b[0;32m/Library/Python/2.7/site-packages/selenium/webdriver/firefox/firefox_binary.pyc\u001b[0m in \u001b[0;36m_wait_until_connectable\u001b[0;34m(self)\u001b[0m\n\u001b[1;32m    104\u001b[0m                       \u001b[0;34m\"Dir: %s If you specified a log_file in the \"\u001b[0m\u001b[0;34m\u001b[0m\u001b[0m\n\u001b[1;32m    105\u001b[0m                       \u001b[0;34m\"FirefoxBinary constructor, check it for details.\"\u001b[0m\u001b[0;34m\u001b[0m\u001b[0m\n\u001b[0;32m--> 106\u001b[0;31m                       % (self.profile.path))\n\u001b[0m\u001b[1;32m    107\u001b[0m             \u001b[0mcount\u001b[0m \u001b[0;34m+=\u001b[0m \u001b[0;36m1\u001b[0m\u001b[0;34m\u001b[0m\u001b[0m\n\u001b[1;32m    108\u001b[0m             \u001b[0mtime\u001b[0m\u001b[0;34m.\u001b[0m\u001b[0msleep\u001b[0m\u001b[0;34m(\u001b[0m\u001b[0;36m1\u001b[0m\u001b[0;34m)\u001b[0m\u001b[0;34m\u001b[0m\u001b[0m\n",
      "\u001b[0;31mWebDriverException\u001b[0m: Message: Can't load the profile. Profile Dir: /var/folders/tl/zzwysg6s4l55j3bwqyddw1b00000gn/T/tmpMTsIAp/webdriver-py-profilecopy If you specified a log_file in the FirefoxBinary constructor, check it for details.\n"
     ]
    }
   ],
   "source": [
    "fds = FanDuelScraper()"
   ]
  },
  {
   "cell_type": "code",
   "execution_count": null,
   "metadata": {
    "collapsed": false
   },
   "outputs": [],
   "source": [
    "url = 'https://www.fanduel.com/games/14647/contests/14647-22550651/scoring'\n",
    "fds.gotoURL(url)\n",
    "fds.getGames()\n",
    "places, prizes = fds.getPrizes()\n",
    "scores = fds.getLevels(places, prizes)\n",
    "print 'P = ',scores.Prize.tolist()\n",
    "print 'L = ',scores.Score.tolist()"
   ]
  },
  {
   "cell_type": "code",
   "execution_count": null,
   "metadata": {
    "collapsed": true
   },
   "outputs": [],
   "source": []
  }
 ],
 "metadata": {
  "kernelspec": {
   "display_name": "Python 2",
   "language": "python",
   "name": "python2"
  },
  "language_info": {
   "codemirror_mode": {
    "name": "ipython",
    "version": 2
   },
   "file_extension": ".py",
   "mimetype": "text/x-python",
   "name": "python",
   "nbconvert_exporter": "python",
   "pygments_lexer": "ipython2",
   "version": "2.7.6"
  }
 },
 "nbformat": 4,
 "nbformat_minor": 0
}
