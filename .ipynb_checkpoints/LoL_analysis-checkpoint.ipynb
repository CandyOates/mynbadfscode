{
 "cells": [
  {
   "cell_type": "code",
   "execution_count": 1,
   "metadata": {
    "collapsed": true
   },
   "outputs": [],
   "source": [
    "import numpy as np"
   ]
  },
  {
   "cell_type": "code",
   "execution_count": null,
   "metadata": {
    "collapsed": true
   },
   "outputs": [],
   "source": [
    "# All abilities of each champion return a dict with keys\n",
    "# {'physical','magical','true','heal','armor','mr','ad','ap',...}\n",
    "# This dict describes the effect of the ability.\n",
    "#\n",
    "# Damage dealt = \n",
    "\n",
    "def dmg_reduction(defense):\n",
    "    if defense >= 0:\n",
    "        return 100. / (100. + defense)\n",
    "    else:\n",
    "        return (2. - 100./(100. - defense))\n",
    "\n",
    "class Champion(object):\n",
    "    hp # health\n",
    "    hr # health regen per 5\n",
    "    energy # remaining energy\n",
    "    mana # remaining mana\n",
    "    mp5 # mana regen per 5\n",
    "    rage # amount of rage\n",
    "    atk_type # melee or range\n",
    "    rng # attack range\n",
    "    ad # attack damage\n",
    "    as # attack speed\n",
    "    armor # armor\n",
    "    mr # magic resistance\n",
    "    spd # movement speed\n",
    "    ap # ability power\n",
    "    vamp # spell vamp\n",
    "    lfstl # life steal\n",
    "    cdr # cooldown reduction\n",
    "    cs # critical strike chance\n",
    "    \n",
    "# max obj_stat\n",
    "# s.t stats in constraint set\n",
    "#\n",
    "# ex 1:\n",
    "# pick level for our champion\n",
    "# max (damage dealt to enemy with given armor and mr over t seconds)\n",
    "# s.t life_steal >= life_steal_lb_param\n",
    "#     spd >= spd_lb\n",
    "#     gld <= gld_ub\n",
    "#     sum of ability levels <= player_level\n",
    "# over set of items and skill leveling\n",
    "# \n",
    "# damage dealt is a linear function of the players stats and the level of the abilities and \n",
    "# is predetermined based on the amount of time fighting and the player's level as well as the\n",
    "# enemy's defensive statistics\n",
    "# \n",
    "# ex 2:\n",
    "# this may not be tractable\n",
    "# \n",
    "# min (fighting time until opponent is dead)\n",
    "# s.t ...\n",
    "# \n",
    "# of course this could be done by a root search on the ex 1 problem"
   ]
  }
 ],
 "metadata": {
  "kernelspec": {
   "display_name": "Python 2",
   "language": "python",
   "name": "python2"
  },
  "language_info": {
   "codemirror_mode": {
    "name": "ipython",
    "version": 2
   },
   "file_extension": ".py",
   "mimetype": "text/x-python",
   "name": "python",
   "nbconvert_exporter": "python",
   "pygments_lexer": "ipython2",
   "version": "2.7.6"
  }
 },
 "nbformat": 4,
 "nbformat_minor": 0
}
