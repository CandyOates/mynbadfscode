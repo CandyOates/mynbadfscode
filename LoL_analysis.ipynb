{
 "cells": [
  {
   "cell_type": "code",
   "execution_count": 1,
   "metadata": {
    "collapsed": true
   },
   "outputs": [],
   "source": [
    "import numpy as np"
   ]
  },
  {
   "cell_type": "code",
   "execution_count": 1,
   "metadata": {
    "collapsed": true
   },
   "outputs": [],
   "source": [
    "# max (my time to kill opp) - (opp time to kill me)\n",
    "# s.t constraints...\n",
    "#\n",
    "# How to solve time to kill opp and vice versa? it's non linear root search"
   ]
  },
  {
   "cell_type": "code",
   "execution_count": 4,
   "metadata": {
    "collapsed": true
   },
   "outputs": [],
   "source": [
    "import os, sys"
   ]
  },
  {
   "cell_type": "code",
   "execution_count": 23,
   "metadata": {
    "collapsed": true
   },
   "outputs": [],
   "source": [
    "import pandas as pd"
   ]
  },
  {
   "cell_type": "code",
   "execution_count": 28,
   "metadata": {
    "collapsed": false
   },
   "outputs": [
    {
     "data": {
      "text/html": [
       "<div>\n",
       "<table border=\"1\" class=\"dataframe\">\n",
       "  <thead>\n",
       "    <tr style=\"text-align: right;\">\n",
       "      <th></th>\n",
       "      <th>0</th>\n",
       "      <th>1</th>\n",
       "      <th>2</th>\n",
       "      <th>3</th>\n",
       "    </tr>\n",
       "  </thead>\n",
       "  <tbody>\n",
       "    <tr>\n",
       "      <th>Champion</th>\n",
       "      <td>Aatrox</td>\n",
       "      <td>Ahri</td>\n",
       "      <td>Akali</td>\n",
       "      <td>Alistar</td>\n",
       "    </tr>\n",
       "    <tr>\n",
       "      <th>Health</th>\n",
       "      <td>537.8</td>\n",
       "      <td>514.4</td>\n",
       "      <td>587.8</td>\n",
       "      <td>613.36</td>\n",
       "    </tr>\n",
       "    <tr>\n",
       "      <th>dHealth</th>\n",
       "      <td>85</td>\n",
       "      <td>80</td>\n",
       "      <td>85</td>\n",
       "      <td>106</td>\n",
       "    </tr>\n",
       "    <tr>\n",
       "      <th>HealthRegen</th>\n",
       "      <td>6.59</td>\n",
       "      <td>6.505</td>\n",
       "      <td>8.34</td>\n",
       "      <td>8.675</td>\n",
       "    </tr>\n",
       "    <tr>\n",
       "      <th>dHealthRegen</th>\n",
       "      <td>0.5</td>\n",
       "      <td>0.6</td>\n",
       "      <td>0.65</td>\n",
       "      <td>0.85</td>\n",
       "    </tr>\n",
       "    <tr>\n",
       "      <th>Mana_Type</th>\n",
       "      <td>Health</td>\n",
       "      <td>Mana</td>\n",
       "      <td>Energy</td>\n",
       "      <td>Mana</td>\n",
       "    </tr>\n",
       "    <tr>\n",
       "      <th>Mana</th>\n",
       "      <td>NaN</td>\n",
       "      <td>334</td>\n",
       "      <td>200</td>\n",
       "      <td>278.84</td>\n",
       "    </tr>\n",
       "    <tr>\n",
       "      <th>dMana</th>\n",
       "      <td>NaN</td>\n",
       "      <td>50</td>\n",
       "      <td>0</td>\n",
       "      <td>38</td>\n",
       "    </tr>\n",
       "    <tr>\n",
       "      <th>ManaRegen</th>\n",
       "      <td>NaN</td>\n",
       "      <td>6</td>\n",
       "      <td>50</td>\n",
       "      <td>8.5</td>\n",
       "    </tr>\n",
       "    <tr>\n",
       "      <th>dManaRegen</th>\n",
       "      <td>NaN</td>\n",
       "      <td>0.8</td>\n",
       "      <td>0</td>\n",
       "      <td>0.8</td>\n",
       "    </tr>\n",
       "    <tr>\n",
       "      <th>AttackType</th>\n",
       "      <td>Melee</td>\n",
       "      <td>Ranged</td>\n",
       "      <td>Melee</td>\n",
       "      <td>Melee</td>\n",
       "    </tr>\n",
       "    <tr>\n",
       "      <th>Range</th>\n",
       "      <td>150</td>\n",
       "      <td>550</td>\n",
       "      <td>125</td>\n",
       "      <td>125</td>\n",
       "    </tr>\n",
       "    <tr>\n",
       "      <th>AttackDamage</th>\n",
       "      <td>60.376</td>\n",
       "      <td>53.04</td>\n",
       "      <td>58.376</td>\n",
       "      <td>61.112</td>\n",
       "    </tr>\n",
       "    <tr>\n",
       "      <th>dAttackDamage</th>\n",
       "      <td>3.2</td>\n",
       "      <td>3</td>\n",
       "      <td>3.2</td>\n",
       "      <td>3.62</td>\n",
       "    </tr>\n",
       "    <tr>\n",
       "      <th>AttackSpeed</th>\n",
       "      <td>0.651</td>\n",
       "      <td>0.668</td>\n",
       "      <td>0.694</td>\n",
       "      <td>0.625</td>\n",
       "    </tr>\n",
       "    <tr>\n",
       "      <th>dAttackSpeed</th>\n",
       "      <td>0.03</td>\n",
       "      <td>0.02</td>\n",
       "      <td>0.031</td>\n",
       "      <td>0.02125</td>\n",
       "    </tr>\n",
       "    <tr>\n",
       "      <th>Armor</th>\n",
       "      <td>24.384</td>\n",
       "      <td>20.88</td>\n",
       "      <td>26.38</td>\n",
       "      <td>24.38</td>\n",
       "    </tr>\n",
       "    <tr>\n",
       "      <th>dArmor</th>\n",
       "      <td>3.8</td>\n",
       "      <td>3.5</td>\n",
       "      <td>3.5</td>\n",
       "      <td>3.5</td>\n",
       "    </tr>\n",
       "    <tr>\n",
       "      <th>MagicResist</th>\n",
       "      <td>32.1</td>\n",
       "      <td>30</td>\n",
       "      <td>32.1</td>\n",
       "      <td>32.1</td>\n",
       "    </tr>\n",
       "    <tr>\n",
       "      <th>dMagicResist</th>\n",
       "      <td>1.25</td>\n",
       "      <td>330</td>\n",
       "      <td>1.25</td>\n",
       "      <td>1.25</td>\n",
       "    </tr>\n",
       "    <tr>\n",
       "      <th>MoveSpeed</th>\n",
       "      <td>345</td>\n",
       "      <td>NaN</td>\n",
       "      <td>350</td>\n",
       "      <td>330</td>\n",
       "    </tr>\n",
       "  </tbody>\n",
       "</table>\n",
       "</div>"
      ],
      "text/plain": [
       "                    0       1       2        3\n",
       "Champion       Aatrox    Ahri   Akali  Alistar\n",
       "Health          537.8   514.4   587.8   613.36\n",
       "dHealth            85      80      85      106\n",
       "HealthRegen      6.59   6.505    8.34    8.675\n",
       "dHealthRegen      0.5     0.6    0.65     0.85\n",
       "Mana_Type      Health    Mana  Energy     Mana\n",
       "Mana              NaN     334     200   278.84\n",
       "dMana             NaN      50       0       38\n",
       "ManaRegen         NaN       6      50      8.5\n",
       "dManaRegen        NaN     0.8       0      0.8\n",
       "AttackType      Melee  Ranged   Melee    Melee\n",
       "Range             150     550     125      125\n",
       "AttackDamage   60.376   53.04  58.376   61.112\n",
       "dAttackDamage     3.2       3     3.2     3.62\n",
       "AttackSpeed     0.651   0.668   0.694    0.625\n",
       "dAttackSpeed     0.03    0.02   0.031  0.02125\n",
       "Armor          24.384   20.88   26.38    24.38\n",
       "dArmor            3.8     3.5     3.5      3.5\n",
       "MagicResist      32.1      30    32.1     32.1\n",
       "dMagicResist     1.25     330    1.25     1.25\n",
       "MoveSpeed         345     NaN     350      330"
      ]
     },
     "execution_count": 28,
     "metadata": {},
     "output_type": "execute_result"
    }
   ],
   "source": [
    "pd.read_csv('/Users/andingo/Desktop/LoL_Optimizer/base_stats.csv').T"
   ]
  },
  {
   "cell_type": "code",
   "execution_count": null,
   "metadata": {
    "collapsed": true
   },
   "outputs": [],
   "source": [
    "# max_m min_o (t2k_opp - t2k_me)"
   ]
  },
  {
   "cell_type": "code",
   "execution_count": null,
   "metadata": {
    "collapsed": true
   },
   "outputs": [],
   "source": [
    "# All abilities of each champion return a dict with keys\n",
    "# {'physical','magical','true','heal','armor','mr','ad','ap',...}\n",
    "# This dict describes the effect of the ability.\n",
    "#\n",
    "# Damage dealt = \n",
    "\n",
    "def dmg_reduction(defense):\n",
    "    if defense >= 0:\n",
    "        return 100. / (100. + defense)\n",
    "    else:\n",
    "        return (2. - 100./(100. - defense))\n",
    "\n",
    "class Champion(object):\n",
    "    hp # health\n",
    "    hr # health regen per 5\n",
    "    energy # remaining energy\n",
    "    mana # remaining mana\n",
    "    mp5 # mana regen per 5\n",
    "    rage # amount of rage\n",
    "    atk_type # melee or range\n",
    "    rng # attack range\n",
    "    ad # attack damage\n",
    "    as # attack speed\n",
    "    armor # armor\n",
    "    mr # magic resistance\n",
    "    spd # movement speed\n",
    "    ap # ability power\n",
    "    vamp # spell vamp\n",
    "    lfstl # life steal\n",
    "    cdr # cooldown reduction\n",
    "    cs # critical strike chance\n",
    "    \n",
    "# max obj_stat\n",
    "# s.t stats in constraint set\n",
    "#\n",
    "# ex 1:\n",
    "# pick level for our champion\n",
    "# max (damage dealt to enemy with given armor and mr over t seconds)\n",
    "# s.t life_steal >= life_steal_lb_param\n",
    "#     spd >= spd_lb\n",
    "#     gld <= gld_ub\n",
    "#     sum of ability levels <= player_level\n",
    "# over set of items and skill leveling\n",
    "# \n",
    "# damage dealt is a linear function of the players stats and the level of the abilities and \n",
    "# is predetermined based on the amount of time fighting and the player's level as well as the\n",
    "# enemy's defensive statistics\n",
    "# \n",
    "# ex 2:\n",
    "# this may not be tractable\n",
    "# \n",
    "# min (fighting time until opponent is dead)\n",
    "# s.t ...\n",
    "# \n",
    "# of course this could be done by a root search on the ex 1 problem"
   ]
  },
  {
   "cell_type": "code",
   "execution_count": 34,
   "metadata": {
    "collapsed": true
   },
   "outputs": [],
   "source": [
    "from django.shortcuts import render"
   ]
  },
  {
   "cell_type": "code",
   "execution_count": 39,
   "metadata": {
    "collapsed": false
   },
   "outputs": [],
   "source": [
    "import bs4\n",
    "import urllib2"
   ]
  },
  {
   "cell_type": "code",
   "execution_count": 73,
   "metadata": {
    "collapsed": false
   },
   "outputs": [
    {
     "data": {
      "text/plain": [
       "'/players/A/AzumJe00.htm'"
      ]
     },
     "execution_count": 73,
     "metadata": {},
     "output_type": "execute_result"
    }
   ],
   "source": [
    "block.findAll('a')[0]['href']"
   ]
  },
  {
   "cell_type": "code",
   "execution_count": 78,
   "metadata": {
    "collapsed": false
   },
   "outputs": [
    {
     "data": {
      "text/plain": [
       "[u'', u'Jerry Azumah            DB        1999-2005', u'']"
      ]
     },
     "execution_count": 78,
     "metadata": {},
     "output_type": "execute_result"
    }
   ],
   "source": [
    "block.text.split('\\n')"
   ]
  },
  {
   "cell_type": "code",
   "execution_count": 91,
   "metadata": {
    "collapsed": false,
    "scrolled": true
   },
   "outputs": [],
   "source": [
    "BASE_URL = 'http://www.pro-football-reference.com/players/'\n",
    "dic = {'First':[],'Last':[],'Pos':[],'Started':[],'Ended':[],'Link':[]}\n",
    "for i in range(65,65+26):\n",
    "    letter = chr(i)\n",
    "    url = BASE_URL + letter\n",
    "    soup = bs4.BeautifulSoup(urllib2.urlopen(url).read(), 'lxml')\n",
    "    blocks = soup.findAll('blockquote')\n",
    "    for block in blocks:\n",
    "        links = block.findAll('a')\n",
    "        links = map(lambda line: line['href'][11:-4], links)\n",
    "        \n",
    "        lines = block.text.split('\\n')\n",
    "        k = 0\n",
    "        for line in lines:\n",
    "            li = filter(lambda x: x!=u'', line.split(' '))\n",
    "            if li == []:\n",
    "                continue\n",
    "            dic['Link'].append(links[k])\n",
    "            dic['First'].append(li[0])\n",
    "            dic['Pos'].append(li[-2])\n",
    "            st, en = li[-1].split('-')\n",
    "            dic['Started'].append(int(st))\n",
    "            dic['Ended'].append(int(en))\n",
    "            last = ' '.join(li[1:len(li)-2])\n",
    "            dic['Last'].append(last)\n",
    "            k += 1           "
   ]
  },
  {
   "cell_type": "code",
   "execution_count": 92,
   "metadata": {
    "collapsed": false
   },
   "outputs": [],
   "source": [
    "table = pd.DataFrame(dic)"
   ]
  },
  {
   "cell_type": "code",
   "execution_count": 105,
   "metadata": {
    "collapsed": false,
    "scrolled": true
   },
   "outputs": [],
   "source": [
    "table[(table.Ended>=2014) & ([any([p in P for p in ('QB','WR','RB','TE','K')]) for P in table.Pos])]\\\n",
    ".set_index('Link').to_csv('/Users/andingo/Desktop/GMLeague/players.csv')"
   ]
  },
  {
   "cell_type": "code",
   "execution_count": 107,
   "metadata": {
    "collapsed": true
   },
   "outputs": [],
   "source": [
    "%matplotlib inline\n",
    "import matplotlib.pyplot as plt"
   ]
  },
  {
   "cell_type": "code",
   "execution_count": 109,
   "metadata": {
    "collapsed": true
   },
   "outputs": [],
   "source": [
    "import numpy as np"
   ]
  },
  {
   "cell_type": "code",
   "execution_count": 130,
   "metadata": {
    "collapsed": false
   },
   "outputs": [
    {
     "name": "stdout",
     "output_type": "stream",
     "text": [
      "[ 1.          1.95        2.8525      3.709875    4.52438125  5.29816219\n",
      "  6.03325408  6.73159137  7.39501181  8.02526122]\n"
     ]
    },
    {
     "data": {
      "image/png": "[encoded data removed]",
      "text/plain": [
       "<matplotlib.figure.Figure at 0x111aefe90>"
      ]
     },
     "metadata": {},
     "output_type": "display_data"
    }
   ],
   "source": [
    "T = np.arange(1,11)\n",
    "e = .05\n",
    "S = np.ones(len(T))\n",
    "for i in range(len(S)-1):\n",
    "    S[i+1] = 1 + (1-e)*S[i]\n",
    "print S\n",
    "plt.plot(T, S, 'o')\n",
    "plt.grid()\n",
    "plt.show()"
   ]
  },
  {
   "cell_type": "code",
   "execution_count": 123,
   "metadata": {
    "collapsed": false
   },
   "outputs": [
    {
     "data": {
      "image/png": "[encoded data removed]",
      "text/plain": [
       "<matplotlib.figure.Figure at 0x111f37ed0>"
      ]
     },
     "metadata": {},
     "output_type": "display_data"
    }
   ],
   "source": [
    "X = np.linspace(1,10,100)\n",
    "c = 2\n",
    "plt.plot(X, np.log(c*(X-1)+1)+1)\n",
    "plt.grid()\n",
    "plt.show()"
   ]
  }
 ],
 "metadata": {
  "kernelspec": {
   "display_name": "Python 2",
   "language": "python",
   "name": "python2"
  },
  "language_info": {
   "codemirror_mode": {
    "name": "ipython",
    "version": 2
   },
   "file_extension": ".py",
   "mimetype": "text/x-python",
   "name": "python",
   "nbconvert_exporter": "python",
   "pygments_lexer": "ipython2",
   "version": "2.7.6"
  }
 },
 "nbformat": 4,
 "nbformat_minor": 0
}
