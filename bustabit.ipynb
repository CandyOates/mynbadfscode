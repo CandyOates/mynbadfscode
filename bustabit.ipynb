{
 "cells": [
  {
   "cell_type": "markdown",
   "metadata": {},
   "source": [
    "# BustaBit\n",
    "\n",
    "Freeze time and analyze the board. We see the prevailing multiplier, we see the remaining players that have yet to lock. We see the total bet amount in the game as well as the highest bet (which tells us the bonus per bit).\n",
    "\n",
    "With this data, we can analyze the expected value of each outcome.\n",
    "\n",
    "## Bonus\n",
    "The bonus per bit is (10%)*(total bets) / (largest bet). The bonus is assigned in order to the last players to lock (getting 1 unit of bonus per bit that they bet) until depleted.\n",
    "\n",
    "## Expected Value\n",
    "### Execute Now\n",
    "If we locked right now, we would guarantee ourselves the multiplier and would have some probability of obtaining the bonus (really a distribution since we could get a partial bonus). This probability is based on the total amount bet by the remaining players relative to the amount of bonus to be deciminated. For example, if the sum of all remaining players bets is less than or equal to the amount of bonus, locking would give the bonus with probability one. If people default by delaying execution now, then earlier executers further down the queue will then take some of the bonus that would have been given to the defaulter had they executed in this moment.\n",
    "\n",
    "### Delay Execution\n",
    "If we choose to delay execution, then there is a default probability on our payout. However, we also stand to get a larger multiplier and potentially some bonus. In this case, we need to look at the probability of defaulting in the next delta t time step and the expected value of executing in the next time step versus delaying execution in the next time step. This is inductive and depends on the behavior of the other players. For this reason, we need to understand the likelihood of our opponents behaving in certain ways. Then, short Monte Carlo simulations can be run to estiamte the EV in real time.\n",
    "\n",
    "### Execution Strategy\n",
    "The optimal strategy will be to maximize expected value. That means at each step we will execute if that has higher EV than delaying execution. Otherwise, we will delay until executing has higher EV."
   ]
  },
  {
   "cell_type": "code",
   "execution_count": 1,
   "metadata": {
    "collapsed": true
   },
   "outputs": [],
   "source": [
    "import numpy as np\n",
    "import pandas as pd\n",
    "import datetime\n",
    "from scipy import optimize"
   ]
  },
  {
   "cell_type": "code",
   "execution_count": 2,
   "metadata": {
    "collapsed": true
   },
   "outputs": [],
   "source": [
    "def pdf(t):\n",
    "    if t < 1:\n",
    "        return 0\n",
    "    return .99 / t**2\n",
    "\n",
    "def cdf(t):\n",
    "    if t < 1:\n",
    "        return 0\n",
    "    return 1. - .99/t\n",
    "\n",
    "def cond_pdf(t, tstar=.99):\n",
    "    '''Prob(T=t | T>=tstar)'''\n",
    "    if t < tstar:\n",
    "        return 0\n",
    "    return float(tstar) / t**2\n",
    "\n",
    "def cond_cdf(t, tstar=.99):\n",
    "    '''Prob(T<=t | T>=tstar)'''\n",
    "    if t < tstar:\n",
    "        return 0\n",
    "    return 1. - float(tstar) / t"
   ]
  },
  {
   "cell_type": "code",
   "execution_count": null,
   "metadata": {
    "collapsed": false
   },
   "outputs": [],
   "source": [
    "cdf(1.09)"
   ]
  },
  {
   "cell_type": "code",
   "execution_count": 3,
   "metadata": {
    "collapsed": true
   },
   "outputs": [],
   "source": [
    "def random_default_times(n, m=None):\n",
    "    if m is None:\n",
    "        u = np.random.rand(n)\n",
    "    else:\n",
    "        u = np.random.rand(n, m)\n",
    "    t = .99 / (1. - u)\n",
    "    return np.where(u <= .01, 1, t)\n",
    "\n",
    "def cond_random_default_times(tstar, n, m=None):\n",
    "    '''conditioned on t >= tstar'''\n",
    "    if m is None:\n",
    "        u = np.random.rand(n)\n",
    "    else:\n",
    "        u = np.random.rand(n, m)\n",
    "    t = tstar / (1. - u)\n",
    "    return t"
   ]
  },
  {
   "cell_type": "code",
   "execution_count": null,
   "metadata": {
    "collapsed": false,
    "scrolled": true
   },
   "outputs": [],
   "source": [
    "df = pd.read_csv('/Users/andingo/Desktop/bustabit2.csv')\n",
    "df"
   ]
  },
  {
   "cell_type": "code",
   "execution_count": null,
   "metadata": {
    "collapsed": true
   },
   "outputs": [],
   "source": [
    "m = df.BET.max()\n",
    "B = df.BET.sum()\n",
    "u = np.array(df['@'])\n",
    "s = np.array(df.BET)\n",
    "N = 10000"
   ]
  },
  {
   "cell_type": "code",
   "execution_count": null,
   "metadata": {
    "collapsed": false,
    "scrolled": true
   },
   "outputs": [],
   "source": [
    "paths = cond_random_default_times(t, N)\n",
    "t0 = 2.04\n",
    "b0 = 1000\n",
    "x0 = np.array([t0, b0])\n",
    "\n",
    "def p(t, b, m, u, s, paths):\n",
    "    J = u >= t\n",
    "    tau = paths[np.newaxis, :]\n",
    "    I = m - s[J].dot(u[J][:, np.newaxis] <= tau) >= b\n",
    "    return I.mean()\n",
    "\n",
    "def obj(x, *args):\n",
    "    B, m, u, s, paths = args\n",
    "    t, b = x\n",
    "    pp = p(t, b, m, u, s, paths)\n",
    "#     print '%10f\\t%10f\\t%10f' % (t, b, pp)\n",
    "    \n",
    "    return -.99*B*b / (10*m*t) * pp +\\\n",
    "        999999999*((t < 1.01) | (b < 1) | (b > 1e6) | (t > 300))\n",
    "\n",
    "%time optimize.fmin(obj, x0, args=(B, m, u, s, paths))"
   ]
  },
  {
   "cell_type": "code",
   "execution_count": 4,
   "metadata": {
    "collapsed": true
   },
   "outputs": [],
   "source": [
    "import selenium.webdriver\n",
    "from selenium.common.exceptions import StaleElementReferenceException\n",
    "from selenium.common.exceptions import NoSuchElementException"
   ]
  },
  {
   "cell_type": "code",
   "execution_count": 5,
   "metadata": {
    "collapsed": false
   },
   "outputs": [],
   "source": [
    "firefox_profile = selenium.webdriver.FirefoxProfile('/Users/andingo/Library/Application Support/Firefox/Profiles/qgc8x8w3.Selenium')\n",
    "wd = selenium.webdriver.Firefox(firefox_profile=firefox_profile)"
   ]
  },
  {
   "cell_type": "code",
   "execution_count": 6,
   "metadata": {
    "collapsed": true
   },
   "outputs": [],
   "source": [
    "wd.get('https://www.bustabit.com')\n",
    "\n",
    "## Manually Log In and press Play Now"
   ]
  },
  {
   "cell_type": "code",
   "execution_count": 223,
   "metadata": {
    "collapsed": true
   },
   "outputs": [],
   "source": [
    "bet_button = wd.find_element_by_class_name('bet-button')"
   ]
  },
  {
   "cell_type": "code",
   "execution_count": 224,
   "metadata": {
    "collapsed": true
   },
   "outputs": [],
   "source": [
    "multiplier = wd.find_element_by_class_name('in-progress')"
   ]
  },
  {
   "cell_type": "code",
   "execution_count": 264,
   "metadata": {
    "collapsed": false,
    "scrolled": true
   },
   "outputs": [
    {
     "name": "stdout",
     "output_type": "stream",
     "text": [
      "CPU times: user 351 µs, sys: 4 µs, total: 355 µs\n",
      "Wall time: 374 µs\n",
      "TRoze\n",
      "32851 100908 0.307168731545\n",
      "CPU times: user 351 µs, sys: 4 µs, total: 355 µs\n",
      "Wall time: 374 µs\n",
      "TRoze\n",
      "32851 100908 0.307168731545\n"
     ]
    }
   ],
   "source": [
    "elem = wd.find_element_by_tag_name('tbody')\n",
    "rows = elem.text.split('\\n')\n",
    "top_better = rows[0].split(' ')[0]\n",
    "%time bets = [int(row.split(' ')[2].replace(',','')) for row in rows]\n",
    "m = max(bets)\n",
    "B = sum(bets)\n",
    "bpb = .1*B/m\n",
    "print top_better\n",
    "print m, B, bpb\n",
    "\n",
    "## TODO\n",
    "# L and q will be a function of top_better\n",
    "L = 2.2\n",
    "# L = 1.3\n",
    "q = .8\n",
    "# q = .5\n",
    "\n",
    "try:\n",
    "    playing = wd.find_element_by_class_name('bet-bar-playing')\n",
    "except NoSuchElementException:\n",
    "    playing = None"
   ]
  },
  {
   "cell_type": "code",
   "execution_count": 265,
   "metadata": {
    "collapsed": false,
    "scrolled": true
   },
   "outputs": [],
   "source": [
    "while 'cashout' in bet_button.get_attribute('class'):\n",
    "    try:\n",
    "        if playing:\n",
    "            style = playing.get_attribute('style')\n",
    "    except StaleElementReferenceException:\n",
    "        style = ''\n",
    "\n",
    "    try:\n",
    "        mult = float(multiplier.text[:-1])\n",
    "    except StaleElementReferenceException:\n",
    "        mult = 1.0\n",
    "        \n",
    "    try:\n",
    "        in_play = float(style.split(' ')[1][:-2])/100 + .005\n",
    "    except ValueError:\n",
    "        in_play = 1.0\n",
    "    except IndexError:\n",
    "        in_play = 1.0\n",
    "    if m >= B*in_play:\n",
    "        bet_button.click()\n",
    "        print 'A', m, B, in_play, B*in_play, mult\n",
    "        break\n",
    "    if m >= B*in_play - m:\n",
    "        p = cond_cdf(L, mult)\n",
    "        E_cash = mult-1.+bpb*p\n",
    "        E_wait = (L-1.+bpb)*q*(1.-p)\n",
    "#         print E_cash, E_wait\n",
    "        if E_cash >= E_wait:\n",
    "            bet_button.click()\n",
    "            print 'B', m, B, in_play, B*in_play, mult, E_cash, E_wait\n",
    "            break"
   ]
  },
  {
   "cell_type": "code",
   "execution_count": 268,
   "metadata": {
    "collapsed": false
   },
   "outputs": [],
   "source": [
    "# wd.quit()"
   ]
  }
 ],
 "metadata": {
  "kernelspec": {
   "display_name": "Python 2",
   "language": "python",
   "name": "python2"
  },
  "language_info": {
   "codemirror_mode": {
    "name": "ipython",
    "version": 2
   },
   "file_extension": ".py",
   "mimetype": "text/x-python",
   "name": "python",
   "nbconvert_exporter": "python",
   "pygments_lexer": "ipython2",
   "version": "2.7.6"
  }
 },
 "nbformat": 4,
 "nbformat_minor": 0
}
